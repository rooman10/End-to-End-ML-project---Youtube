{
 "cells": [
  {
   "cell_type": "code",
   "execution_count": 1,
   "id": "b0c20125-f508-45e1-9539-e6c827254373",
   "metadata": {},
   "outputs": [],
   "source": [
    "import os"
   ]
  },
  {
   "cell_type": "code",
   "execution_count": 2,
   "id": "9ce9554c-441b-453f-9442-b300d581db53",
   "metadata": {},
   "outputs": [
    {
     "data": {
      "text/plain": [
       "'/Users/harshadahake/Downloads/python2025/yt-course-e2e-project/End-to-End-ML-project---Youtube/research'"
      ]
     },
     "execution_count": 2,
     "metadata": {},
     "output_type": "execute_result"
    }
   ],
   "source": [
    "%pwd"
   ]
  },
  {
   "cell_type": "code",
   "execution_count": 5,
   "id": "3e02d402-6c00-4e8f-832e-1818cd62a272",
   "metadata": {},
   "outputs": [],
   "source": [
    "os.chdir('../')"
   ]
  },
  {
   "cell_type": "code",
   "execution_count": 6,
   "id": "9ce7a861-8cb9-44ad-bac3-15b5b4f74aa9",
   "metadata": {},
   "outputs": [
    {
     "data": {
      "text/plain": [
       "'/Users/harshadahake/Downloads/python2025/yt-course-e2e-project/End-to-End-ML-project---Youtube'"
      ]
     },
     "execution_count": 6,
     "metadata": {},
     "output_type": "execute_result"
    }
   ],
   "source": [
    "%pwd"
   ]
  },
  {
   "cell_type": "code",
   "execution_count": 18,
   "id": "681aa4cc-28f7-4501-9f10-d2518e4d31b4",
   "metadata": {},
   "outputs": [],
   "source": [
    "# define an entity (returned by function)\n",
    "from dataclasses import dataclass\n",
    "from pathlib import Path\n",
    "\n",
    "@dataclass(frozen=True)\n",
    "class DataIngestionConfig:\n",
    "    root_dir: Path\n",
    "    source_URL: str\n",
    "    local_data_file: Path\n",
    "    unzip_dir: Path"
   ]
  },
  {
   "cell_type": "code",
   "execution_count": 19,
   "id": "9f657535-1f84-420c-aacc-84d69aa25c20",
   "metadata": {},
   "outputs": [],
   "source": [
    "# Configuration manager\n",
    "from src.projectDefault.constants import *\n",
    "from src.projectDefault.utils.common import read_yaml, create_directories\n",
    "\n",
    "# this needs compatibility with Python version (3.9 or earlier)\n",
    "## this will help revise the steps till here, when I get to it!\n",
    "\n",
    "# also, what to do in the future with new python versions?\n",
    "## TBD\n"
   ]
  },
  {
   "cell_type": "code",
   "execution_count": 20,
   "id": "aee0d11a-ea8e-4859-853b-11f027689785",
   "metadata": {},
   "outputs": [],
   "source": [
    "class ConfigurationManager:\n",
    "    def __init__(\n",
    "        self,\n",
    "        config_filepath = CONFIG_FILE_PATH,\n",
    "        params_filepath = PARAMS_FILE_PATH,\n",
    "        schema_filepath = SCHEMA_FILE_PATH):\n",
    "\n",
    "        self.config = read_yaml(config_filepath)\n",
    "        self.params = read_yaml(params_filepath)\n",
    "        self.schema = read_yaml(schema_filepath)\n",
    "\n",
    "        create_directories([self.config.artifacts_root])\n",
    "    \n",
    "    def get_data_ingestion_config(self) -> DataIngestionConfig:\n",
    "        config = self.config.data_ingestion\n",
    "        create_directories([config.root_dir])\n",
    "\n",
    "        data_ingestion_config = DataIngestionConfig(\n",
    "            root_dir = config.root_dir,\n",
    "            source_URL = config.source_URL,\n",
    "            local_data_file = config.local_data_file,\n",
    "            unzip_dir = config.unzip_dir\n",
    "        )\n",
    "\n",
    "        return data_ingestion_config\n",
    "\n",
    "    "
   ]
  },
  {
   "cell_type": "code",
   "execution_count": 21,
   "id": "270b9a9a-dc25-4c17-9595-f5bf3d64ade4",
   "metadata": {},
   "outputs": [],
   "source": [
    "import os\n",
    "import urllib.request as request\n",
    "import zipfile\n",
    "from src.projectDefault.logging import logger\n",
    "from src.projectDefault.utils.common import get_size"
   ]
  },
  {
   "cell_type": "code",
   "execution_count": 24,
   "id": "a891fd1b-2583-40cf-a081-7ae95475b76f",
   "metadata": {},
   "outputs": [],
   "source": [
    "class DataIngestion:\n",
    "    def __init__(self, config: DataIngestionConfig):\n",
    "        self.config = config\n",
    "\n",
    "    def download_file(self):\n",
    "        if not os.path.exists(self.config.local_data_file):\n",
    "            filename, headers = request.urlretrieve(\n",
    "                url = self.config.source_URL,\n",
    "                filename = self.config.local_data_file\n",
    "            )\n",
    "            logger.info(f\"{filename} downloaded! with following info: \\n{headers}\")\n",
    "        else:\n",
    "            logger.info(f\"File already exists of size: {get_size(Path(self.config.local_data_file))}\")\n",
    "\n",
    "    def extract_zip_file(self):\n",
    "        \"\"\"\n",
    "        zip_file_path: str\n",
    "        Extracts the xpi file into the data directory\n",
    "        Function returns None\n",
    "        \"\"\"\n",
    "        unzip_path = self.config.unzip_dir\n",
    "        os.makedirs(unzip_path, exist_ok = True)\n",
    "        with zipfile.ZipFile(self.config.local_data_file, 'r') as zip_ref:\n",
    "            zip_ref.extractall(unzip_path)"
   ]
  },
  {
   "cell_type": "code",
   "execution_count": 27,
   "id": "6c9d1ab6-55c2-4b79-a1dc-78605d333581",
   "metadata": {},
   "outputs": [
    {
     "name": "stdout",
     "output_type": "stream",
     "text": [
      "[2025-05-25 00:31:43,461: INFO: common: yaml file: config/config.yaml loaded successfully]\n",
      "[2025-05-25 00:31:43,462: INFO: common: yaml file: params.yaml loaded successfully]\n",
      "[2025-05-25 00:31:43,463: INFO: common: yaml file: schema.yaml loaded successfully]\n",
      "[2025-05-25 00:31:43,463: INFO: common: created directory at: artifacts]\n",
      "[2025-05-25 00:31:43,464: INFO: common: created directory at: artifacts/data_ingestion]\n",
      "[2025-05-25 00:31:43,834: INFO: 1258507886: artifacts/data_ingestion/data.zip downloaded! with following info: \n",
      "Connection: close\n",
      "Content-Length: 25472\n",
      "Cache-Control: max-age=300\n",
      "Content-Security-Policy: default-src 'none'; style-src 'unsafe-inline'; sandbox\n",
      "Content-Type: application/zip\n",
      "ETag: \"a4bfb500e92667f526438efe461411a299e54625e6d31beb2ed132c9e82ba309\"\n",
      "Strict-Transport-Security: max-age=31536000\n",
      "X-Content-Type-Options: nosniff\n",
      "X-Frame-Options: deny\n",
      "X-XSS-Protection: 1; mode=block\n",
      "X-GitHub-Request-Id: 713B:E7FB2:76558E:993417:6832C697\n",
      "Accept-Ranges: bytes\n",
      "Date: Sun, 25 May 2025 07:31:43 GMT\n",
      "Via: 1.1 varnish\n",
      "X-Served-By: cache-bfi-kbfi7400115-BFI\n",
      "X-Cache: HIT\n",
      "X-Cache-Hits: 0\n",
      "X-Timer: S1748158304.859414,VS0,VE1\n",
      "Vary: Authorization,Accept-Encoding,Origin\n",
      "Access-Control-Allow-Origin: *\n",
      "Cross-Origin-Resource-Policy: cross-origin\n",
      "X-Fastly-Request-ID: 6e1b030106a5e5a894b15802b6a1312e60c36be5\n",
      "Expires: Sun, 25 May 2025 07:36:43 GMT\n",
      "Source-Age: 196\n",
      "\n",
      "]\n"
     ]
    }
   ],
   "source": [
    "## pipeline (for data ingestion!)\n",
    "\n",
    "try:\n",
    "    config = ConfigurationManager()\n",
    "    data_ingestion_config = config.get_data_ingestion_config()\n",
    "    data_ingestion = DataIngestion(config=data_ingestion_config)\n",
    "    data_ingestion.download_file()\n",
    "    data_ingestion.extract_zip_file()\n",
    "except Exception as e:\n",
    "    raise e"
   ]
  },
  {
   "cell_type": "code",
   "execution_count": null,
   "id": "0614f8cd-ef3b-4454-879d-d53adf2b8de5",
   "metadata": {},
   "outputs": [],
   "source": [
    "### Day 3 ^"
   ]
  },
  {
   "cell_type": "code",
   "execution_count": null,
   "id": "d7abbc3f-b518-4463-ad26-887959a66c10",
   "metadata": {},
   "outputs": [],
   "source": []
  }
 ],
 "metadata": {
  "kernelspec": {
   "display_name": "Python 3 (Spyder)",
   "language": "python3",
   "name": "python3"
  },
  "language_info": {
   "codemirror_mode": {
    "name": "ipython",
    "version": 3
   },
   "file_extension": ".py",
   "mimetype": "text/x-python",
   "name": "python",
   "nbconvert_exporter": "python",
   "pygments_lexer": "ipython3",
   "version": "3.13.2"
  }
 },
 "nbformat": 4,
 "nbformat_minor": 5
}
