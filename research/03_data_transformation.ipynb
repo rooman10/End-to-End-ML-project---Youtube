{
 "cells": [
  {
   "cell_type": "code",
   "execution_count": 1,
   "id": "9db8499a-6eb3-479f-b16c-ec5d8672a2f6",
   "metadata": {},
   "outputs": [
    {
     "data": {
      "text/plain": [
       "'/Users/harshadahake/Downloads/python2025/yt-course-e2e-project/End-to-End-ML-project---Youtube/research'"
      ]
     },
     "execution_count": 1,
     "metadata": {},
     "output_type": "execute_result"
    }
   ],
   "source": [
    "import os\n",
    "%pwd"
   ]
  },
  {
   "cell_type": "code",
   "execution_count": 2,
   "id": "716cbc70-ab63-43ad-b04e-0ca1b7ea8056",
   "metadata": {},
   "outputs": [],
   "source": [
    "os.chdir('../')"
   ]
  },
  {
   "cell_type": "code",
   "execution_count": 3,
   "id": "d908f929-da56-4127-916f-ddad0c86169b",
   "metadata": {},
   "outputs": [
    {
     "data": {
      "text/plain": [
       "'/Users/harshadahake/Downloads/python2025/yt-course-e2e-project/End-to-End-ML-project---Youtube'"
      ]
     },
     "execution_count": 3,
     "metadata": {},
     "output_type": "execute_result"
    }
   ],
   "source": [
    "%pwd"
   ]
  },
  {
   "cell_type": "code",
   "execution_count": 4,
   "id": "29d872d0-8d0c-4a83-8def-f8c668792f59",
   "metadata": {},
   "outputs": [],
   "source": [
    "from dataclasses import dataclass\n",
    "from pathlib import Path\n",
    "\n",
    "@dataclass(frozen=True)\n",
    "class DataTransformationConfig:\n",
    "    root_dir: Path\n",
    "    data_path: Path"
   ]
  },
  {
   "cell_type": "code",
   "execution_count": 6,
   "id": "e4ad97e8-1319-4e4b-9271-254f610bab51",
   "metadata": {},
   "outputs": [],
   "source": [
    "from src.projectDefault.constants import *\n",
    "from src.projectDefault.utils.common import read_yaml, create_directories"
   ]
  },
  {
   "cell_type": "code",
   "execution_count": 7,
   "id": "b3307d9c-c177-4188-b83e-d101595c2bbf",
   "metadata": {},
   "outputs": [],
   "source": [
    "class ConfigurationManager:\n",
    "    def __init__(\n",
    "        self,\n",
    "        config_filepath = CONFIG_FILE_PATH,\n",
    "        params_filepath = PARAMS_FILE_PATH,\n",
    "        schema_filepath = SCHEMA_FILE_PATH):\n",
    "\n",
    "        self.config = read_yaml(config_filepath)\n",
    "        self.params = read_yaml(params_filepath)\n",
    "        self.schema = read_yaml(schema_filepath)\n",
    "\n",
    "        create_directories([self.config.artifacts_root])\n",
    "\n",
    "    def get_data_transformation_config(self) -> DataTransformationConfig:\n",
    "        config = self.config.data_transformation\n",
    "\n",
    "        create_directories([config.root_dir])\n",
    "\n",
    "        data_transformation_config = DataTransformationConfig(\n",
    "            root_dir = config.root_dir,\n",
    "            data_path = config.data_path\n",
    "        )\n",
    "\n",
    "        return data_transformation_config\n",
    "    "
   ]
  },
  {
   "cell_type": "code",
   "execution_count": 8,
   "id": "e3c22a4e-d37f-4acb-bb68-e47ac636b957",
   "metadata": {},
   "outputs": [],
   "source": [
    "import os\n",
    "from src.projectDefault.logging import logger\n",
    "from sklearn.model_selection import train_test_split\n",
    "import pandas as pd"
   ]
  },
  {
   "cell_type": "code",
   "execution_count": 16,
   "id": "cdbe2087-4f4a-47af-8681-726c5d7d3687",
   "metadata": {},
   "outputs": [],
   "source": [
    "class DataTransformation:\n",
    "    def __init__(self, config: DataTransformationConfig):\n",
    "        self.config = config\n",
    "\n",
    "        ## Note: You can add different data transformation techniques such as Scalas, PCA, etc.\n",
    "        ## You can perform different EDA in ML cycle here before passing this data to the model\n",
    "\n",
    "        ## I am only adding train_test_split step because this data is already cleaned up,\n",
    "\n",
    "    def train_test_splitting(self):\n",
    "        data = pd.read_csv(self.config.data_path)\n",
    "\n",
    "        # split the data into train and test datasets (0.75, 0.25 split)\n",
    "\n",
    "        train, test = train_test_split(data)\n",
    "\n",
    "        train.to_csv(os.path.join(self.config.root_dir, \"train.csv\"), index=False)\n",
    "        test.to_csv(os.path.join(self.config.root_dir, \"test.csv\"), index=False)\n",
    "\n",
    "        logger.info(\"Split the data into training and test sets\")\n",
    "        logger.info(train.shape)\n",
    "        logger.info(test.shape)\n",
    "\n",
    "        print(train.shape)\n",
    "        print(test.shape)    "
   ]
  },
  {
   "cell_type": "code",
   "execution_count": 18,
   "id": "010179ef-7018-4e46-a046-06f0d7c39774",
   "metadata": {},
   "outputs": [
    {
     "name": "stdout",
     "output_type": "stream",
     "text": [
      "[2025-05-26 12:49:31,743: INFO: common: yaml file: config/config.yaml loaded successfully]\n",
      "[2025-05-26 12:49:31,744: INFO: common: yaml file: params.yaml loaded successfully]\n",
      "[2025-05-26 12:49:31,745: INFO: common: yaml file: schema.yaml loaded successfully]\n",
      "[2025-05-26 12:49:31,745: INFO: common: created directory at: artifacts]\n",
      "[2025-05-26 12:49:31,746: INFO: common: created directory at: artifacts/data_transformation]\n",
      "[2025-05-26 12:49:31,760: INFO: 1808994130: Split the data into training and test sets]\n",
      "[2025-05-26 12:49:31,760: INFO: 1808994130: (1199, 12)]\n",
      "[2025-05-26 12:49:31,760: INFO: 1808994130: (400, 12)]\n",
      "(1199, 12)\n",
      "(400, 12)\n"
     ]
    }
   ],
   "source": [
    "try:\n",
    "    config = ConfigurationManager()\n",
    "    data_transformation_config = config.get_data_transformation_config()\n",
    "    data_transformation = DataTransformation(config = data_transformation_config)\n",
    "    data_transformation.train_test_splitting()\n",
    "except Exception as e:\n",
    "    raise e"
   ]
  },
  {
   "cell_type": "code",
   "execution_count": null,
   "id": "2ec89b66-0923-4481-9437-0d0773dd1482",
   "metadata": {},
   "outputs": [],
   "source": []
  }
 ],
 "metadata": {
  "kernelspec": {
   "display_name": "Python 3 (Spyder)",
   "language": "python3",
   "name": "python3"
  },
  "language_info": {
   "codemirror_mode": {
    "name": "ipython",
    "version": 3
   },
   "file_extension": ".py",
   "mimetype": "text/x-python",
   "name": "python",
   "nbconvert_exporter": "python",
   "pygments_lexer": "ipython3",
   "version": "3.13.2"
  }
 },
 "nbformat": 4,
 "nbformat_minor": 5
}
